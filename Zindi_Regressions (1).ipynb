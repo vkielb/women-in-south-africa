{
 "cells": [
  {
   "cell_type": "code",
   "execution_count": 95,
   "metadata": {
    "colab": {},
    "colab_type": "code",
    "id": "xsW1xTL0xoKm"
   },
   "outputs": [],
   "source": [
    "import pandas as pd\n",
    "import numpy as np\n",
    "import os, random, math, glob\n",
    "from IPython.display import Image as IM\n",
    "from IPython.display import clear_output\n",
    "from matplotlib import pyplot as plt\n",
    "%matplotlib inline\n",
    "plt.rcParams['figure.figsize'] = [16, 10]\n",
    "import seaborn as sns\n",
    "import ast, json\n",
    "\n",
    "from datetime import datetime\n",
    "import matplotlib.pyplot as plt\n",
    "%matplotlib inline\n",
    "\n",
    "from sklearn.linear_model import LinearRegression\n",
    "from sklearn.model_selection import train_test_split\n",
    "from sklearn import preprocessing"
   ]
  },
  {
   "cell_type": "code",
   "execution_count": 96,
   "metadata": {
    "colab": {},
    "colab_type": "code",
    "id": "m360xhSOxsfy"
   },
   "outputs": [],
   "source": [
    "df = pd.read_csv('Train.csv')\n",
    "df.head()\n",
    "test = pd.read_csv('Test.csv')"
   ]
  },
  {
   "cell_type": "code",
   "execution_count": 97,
   "metadata": {
    "colab": {
     "base_uri": "https://localhost:8080/",
     "height": 221
    },
    "colab_type": "code",
    "id": "tSOqy9YqaPkl",
    "outputId": "7811923b-2cfd-45a0-ee78-1140d0e8717a"
   },
   "outputs": [
    {
     "data": {
      "text/plain": [
       "ward                 0\n",
       "total_households     0\n",
       "total_individuals    0\n",
       "target               0\n",
       "dw_00                0\n",
       "                    ..\n",
       "pw_08                0\n",
       "ADM4_PCODE           0\n",
       "lat                  0\n",
       "lon                  0\n",
       "NL                   0\n",
       "Length: 63, dtype: int64"
      ]
     },
     "execution_count": 97,
     "metadata": {},
     "output_type": "execute_result"
    }
   ],
   "source": [
    "df.isna().sum()"
   ]
  },
  {
   "cell_type": "code",
   "execution_count": 98,
   "metadata": {
    "colab": {},
    "colab_type": "code",
    "id": "2LM9JBmbSpT0"
   },
   "outputs": [],
   "source": [
    "target = df.target"
   ]
  },
  {
   "cell_type": "code",
   "execution_count": 99,
   "metadata": {
    "colab": {},
    "colab_type": "code",
    "id": "X0reipmuSqQl"
   },
   "outputs": [
    {
     "name": "stdout",
     "output_type": "stream",
     "text": [
      "Index(['total_households', 'total_individuals', 'dw_00', 'dw_01', 'dw_02',\n",
      "       'dw_03', 'dw_04', 'dw_05', 'dw_06', 'dw_07', 'dw_08', 'dw_09', 'dw_10',\n",
      "       'dw_11', 'psa_00', 'psa_01', 'psa_02', 'psa_03', 'psa_04', 'stv_00',\n",
      "       'stv_01', 'car_00', 'car_01', 'lln_00', 'lln_01', 'lan_00', 'lan_01',\n",
      "       'lan_02', 'lan_03', 'lan_04', 'lan_05', 'lan_06', 'lan_07', 'lan_08',\n",
      "       'lan_09', 'lan_10', 'lan_11', 'lan_12', 'lan_14', 'pg_00', 'pg_01',\n",
      "       'pg_02', 'pg_03', 'pg_04', 'lgt_00', 'pw_00', 'pw_01', 'pw_02', 'pw_03',\n",
      "       'pw_04', 'pw_05', 'pw_06', 'pw_08', 'lat', 'lon', 'NL'],\n",
      "      dtype='object')\n"
     ]
    }
   ],
   "source": [
    "X = df.drop(['ward', 'ADM4_PCODE', 'target','dw_12','dw_13','lan_13','pw_07'], axis = 1)\n",
    "X_cols = X.columns\n",
    "print(X_cols)\n",
    "y = target"
   ]
  },
  {
   "cell_type": "code",
   "execution_count": 100,
   "metadata": {
    "colab": {
     "base_uri": "https://localhost:8080/",
     "height": 309
    },
    "colab_type": "code",
    "id": "HEGbznFElcFP",
    "outputId": "7a5da597-fa7e-49eb-dfcf-1008b2995392"
   },
   "outputs": [
    {
     "data": {
      "text/html": [
       "<div>\n",
       "<style scoped>\n",
       "    .dataframe tbody tr th:only-of-type {\n",
       "        vertical-align: middle;\n",
       "    }\n",
       "\n",
       "    .dataframe tbody tr th {\n",
       "        vertical-align: top;\n",
       "    }\n",
       "\n",
       "    .dataframe thead th {\n",
       "        text-align: right;\n",
       "    }\n",
       "</style>\n",
       "<table border=\"1\" class=\"dataframe\">\n",
       "  <thead>\n",
       "    <tr style=\"text-align: right;\">\n",
       "      <th></th>\n",
       "      <th>ward</th>\n",
       "      <th>total_households</th>\n",
       "      <th>total_individuals</th>\n",
       "      <th>dw_00</th>\n",
       "      <th>dw_01</th>\n",
       "      <th>dw_02</th>\n",
       "      <th>dw_03</th>\n",
       "      <th>dw_04</th>\n",
       "      <th>dw_05</th>\n",
       "      <th>dw_06</th>\n",
       "      <th>...</th>\n",
       "      <th>pw_03</th>\n",
       "      <th>pw_04</th>\n",
       "      <th>pw_05</th>\n",
       "      <th>pw_06</th>\n",
       "      <th>pw_07</th>\n",
       "      <th>pw_08</th>\n",
       "      <th>ADM4_PCODE</th>\n",
       "      <th>lat</th>\n",
       "      <th>lon</th>\n",
       "      <th>NL</th>\n",
       "    </tr>\n",
       "  </thead>\n",
       "  <tbody>\n",
       "    <tr>\n",
       "      <th>0</th>\n",
       "      <td>21001001: Ward 1</td>\n",
       "      <td>2504.95194</td>\n",
       "      <td>8745.15151</td>\n",
       "      <td>0.947257</td>\n",
       "      <td>0.000873</td>\n",
       "      <td>0.002021</td>\n",
       "      <td>0.000000</td>\n",
       "      <td>0.000000</td>\n",
       "      <td>0.030116</td>\n",
       "      <td>0.000452</td>\n",
       "      <td>...</td>\n",
       "      <td>0.001757</td>\n",
       "      <td>0.000000</td>\n",
       "      <td>0.0</td>\n",
       "      <td>0.006649</td>\n",
       "      <td>0.0</td>\n",
       "      <td>0.0</td>\n",
       "      <td>ZA2101001</td>\n",
       "      <td>-32.637758</td>\n",
       "      <td>23.848688</td>\n",
       "      <td>0.000000</td>\n",
       "    </tr>\n",
       "    <tr>\n",
       "      <th>1</th>\n",
       "      <td>21001002: Ward 2</td>\n",
       "      <td>2080.27718</td>\n",
       "      <td>7258.11764</td>\n",
       "      <td>0.844993</td>\n",
       "      <td>0.000481</td>\n",
       "      <td>0.043629</td>\n",
       "      <td>0.004714</td>\n",
       "      <td>0.012323</td>\n",
       "      <td>0.012300</td>\n",
       "      <td>0.022132</td>\n",
       "      <td>...</td>\n",
       "      <td>0.000691</td>\n",
       "      <td>0.000000</td>\n",
       "      <td>0.0</td>\n",
       "      <td>0.002916</td>\n",
       "      <td>0.0</td>\n",
       "      <td>0.0</td>\n",
       "      <td>ZA2101002</td>\n",
       "      <td>-31.990536</td>\n",
       "      <td>24.555818</td>\n",
       "      <td>0.000000</td>\n",
       "    </tr>\n",
       "    <tr>\n",
       "      <th>2</th>\n",
       "      <td>21001003: Ward 3</td>\n",
       "      <td>1106.62639</td>\n",
       "      <td>5919.13170</td>\n",
       "      <td>0.651380</td>\n",
       "      <td>0.007937</td>\n",
       "      <td>0.007113</td>\n",
       "      <td>0.000000</td>\n",
       "      <td>0.001977</td>\n",
       "      <td>0.259711</td>\n",
       "      <td>0.006505</td>\n",
       "      <td>...</td>\n",
       "      <td>0.002253</td>\n",
       "      <td>0.000000</td>\n",
       "      <td>0.0</td>\n",
       "      <td>0.000000</td>\n",
       "      <td>0.0</td>\n",
       "      <td>0.0</td>\n",
       "      <td>ZA2101003</td>\n",
       "      <td>-32.283595</td>\n",
       "      <td>24.563940</td>\n",
       "      <td>8.269556</td>\n",
       "    </tr>\n",
       "    <tr>\n",
       "      <th>3</th>\n",
       "      <td>21001004: Ward 4</td>\n",
       "      <td>2175.56096</td>\n",
       "      <td>10280.57452</td>\n",
       "      <td>0.410837</td>\n",
       "      <td>0.002468</td>\n",
       "      <td>0.011511</td>\n",
       "      <td>0.000485</td>\n",
       "      <td>0.000000</td>\n",
       "      <td>0.449604</td>\n",
       "      <td>0.009256</td>\n",
       "      <td>...</td>\n",
       "      <td>0.000000</td>\n",
       "      <td>0.000661</td>\n",
       "      <td>0.0</td>\n",
       "      <td>0.001379</td>\n",
       "      <td>0.0</td>\n",
       "      <td>0.0</td>\n",
       "      <td>ZA2101004</td>\n",
       "      <td>-32.261612</td>\n",
       "      <td>24.542202</td>\n",
       "      <td>8.626625</td>\n",
       "    </tr>\n",
       "    <tr>\n",
       "      <th>4</th>\n",
       "      <td>21001005: Ward 5</td>\n",
       "      <td>1270.83883</td>\n",
       "      <td>6018.34202</td>\n",
       "      <td>0.942851</td>\n",
       "      <td>0.002638</td>\n",
       "      <td>0.000821</td>\n",
       "      <td>0.000000</td>\n",
       "      <td>0.000891</td>\n",
       "      <td>0.000787</td>\n",
       "      <td>0.000830</td>\n",
       "      <td>...</td>\n",
       "      <td>0.000000</td>\n",
       "      <td>0.000000</td>\n",
       "      <td>0.0</td>\n",
       "      <td>0.001660</td>\n",
       "      <td>0.0</td>\n",
       "      <td>0.0</td>\n",
       "      <td>ZA2101005</td>\n",
       "      <td>-32.251571</td>\n",
       "      <td>24.558537</td>\n",
       "      <td>8.601754</td>\n",
       "    </tr>\n",
       "  </tbody>\n",
       "</table>\n",
       "<p>5 rows × 62 columns</p>\n",
       "</div>"
      ],
      "text/plain": [
       "               ward  total_households  total_individuals     dw_00     dw_01  \\\n",
       "0  21001001: Ward 1        2504.95194         8745.15151  0.947257  0.000873   \n",
       "1  21001002: Ward 2        2080.27718         7258.11764  0.844993  0.000481   \n",
       "2  21001003: Ward 3        1106.62639         5919.13170  0.651380  0.007937   \n",
       "3  21001004: Ward 4        2175.56096        10280.57452  0.410837  0.002468   \n",
       "4  21001005: Ward 5        1270.83883         6018.34202  0.942851  0.002638   \n",
       "\n",
       "      dw_02     dw_03     dw_04     dw_05     dw_06  ...     pw_03     pw_04  \\\n",
       "0  0.002021  0.000000  0.000000  0.030116  0.000452  ...  0.001757  0.000000   \n",
       "1  0.043629  0.004714  0.012323  0.012300  0.022132  ...  0.000691  0.000000   \n",
       "2  0.007113  0.000000  0.001977  0.259711  0.006505  ...  0.002253  0.000000   \n",
       "3  0.011511  0.000485  0.000000  0.449604  0.009256  ...  0.000000  0.000661   \n",
       "4  0.000821  0.000000  0.000891  0.000787  0.000830  ...  0.000000  0.000000   \n",
       "\n",
       "   pw_05     pw_06  pw_07  pw_08  ADM4_PCODE        lat        lon        NL  \n",
       "0    0.0  0.006649    0.0    0.0   ZA2101001 -32.637758  23.848688  0.000000  \n",
       "1    0.0  0.002916    0.0    0.0   ZA2101002 -31.990536  24.555818  0.000000  \n",
       "2    0.0  0.000000    0.0    0.0   ZA2101003 -32.283595  24.563940  8.269556  \n",
       "3    0.0  0.001379    0.0    0.0   ZA2101004 -32.261612  24.542202  8.626625  \n",
       "4    0.0  0.001660    0.0    0.0   ZA2101005 -32.251571  24.558537  8.601754  \n",
       "\n",
       "[5 rows x 62 columns]"
      ]
     },
     "execution_count": 100,
     "metadata": {},
     "output_type": "execute_result"
    }
   ],
   "source": [
    "test.head()"
   ]
  },
  {
   "cell_type": "code",
   "execution_count": 101,
   "metadata": {
    "colab": {},
    "colab_type": "code",
    "id": "4BZrj1SjUVNU"
   },
   "outputs": [],
   "source": [
    "test = test.drop(['ADM4_PCODE','dw_12','dw_13','lan_13','pw_07'], axis = 1)"
   ]
  },
  {
   "cell_type": "code",
   "execution_count": 102,
   "metadata": {
    "colab": {},
    "colab_type": "code",
    "id": "W6OZ9xMaAJeY"
   },
   "outputs": [],
   "source": [
    "import numpy as np\n",
    "import pandas as pd\n",
    "import matplotlib.pyplot as plt\n",
    "from sklearn import datasets\n",
    "\n",
    "from sklearn.ensemble import BaggingClassifier # default classifier is a DT\n",
    "from sklearn.ensemble import AdaBoostClassifier\n",
    "\n",
    "\n",
    "from sklearn.model_selection import cross_val_score\n",
    "from sklearn.model_selection import cross_validate\n",
    "\n",
    "from sklearn.metrics import SCORERS\n",
    "\n",
    "import seaborn as sns\n",
    "sns.set(rc={'figure.figsize':(6,6)}) \n",
    "import warnings\n",
    "warnings.simplefilter(\"ignore\")\n",
    "\n",
    "%matplotlib inline"
   ]
  },
  {
   "cell_type": "code",
   "execution_count": 103,
   "metadata": {
    "colab": {},
    "colab_type": "code",
    "id": "q9Mgd527aqSI"
   },
   "outputs": [],
   "source": [
    "model = LinearRegression()"
   ]
  },
  {
   "cell_type": "code",
   "execution_count": 104,
   "metadata": {
    "colab": {
     "base_uri": "https://localhost:8080/",
     "height": 241
    },
    "colab_type": "code",
    "id": "wI5RBGxuahy1",
    "outputId": "f30f7289-4285-454a-ea79-a7dd2e9d1bdb"
   },
   "outputs": [
    {
     "data": {
      "text/html": [
       "<div>\n",
       "<style scoped>\n",
       "    .dataframe tbody tr th:only-of-type {\n",
       "        vertical-align: middle;\n",
       "    }\n",
       "\n",
       "    .dataframe tbody tr th {\n",
       "        vertical-align: top;\n",
       "    }\n",
       "\n",
       "    .dataframe thead th {\n",
       "        text-align: right;\n",
       "    }\n",
       "</style>\n",
       "<table border=\"1\" class=\"dataframe\">\n",
       "  <thead>\n",
       "    <tr style=\"text-align: right;\">\n",
       "      <th></th>\n",
       "      <th>index</th>\n",
       "      <th>total_households</th>\n",
       "      <th>total_individuals</th>\n",
       "      <th>dw_00</th>\n",
       "      <th>dw_01</th>\n",
       "      <th>dw_02</th>\n",
       "      <th>dw_03</th>\n",
       "      <th>dw_04</th>\n",
       "      <th>dw_05</th>\n",
       "      <th>dw_06</th>\n",
       "      <th>...</th>\n",
       "      <th>pw_03</th>\n",
       "      <th>pw_04</th>\n",
       "      <th>pw_05</th>\n",
       "      <th>pw_06</th>\n",
       "      <th>pw_08</th>\n",
       "      <th>lat</th>\n",
       "      <th>lon</th>\n",
       "      <th>NL</th>\n",
       "      <th>target</th>\n",
       "      <th>expected target</th>\n",
       "    </tr>\n",
       "  </thead>\n",
       "  <tbody>\n",
       "    <tr>\n",
       "      <th>0</th>\n",
       "      <td>1365</td>\n",
       "      <td>2349.04576</td>\n",
       "      <td>6991.64058</td>\n",
       "      <td>0.806317</td>\n",
       "      <td>0.098598</td>\n",
       "      <td>0.025605</td>\n",
       "      <td>0.000676</td>\n",
       "      <td>0.000000</td>\n",
       "      <td>0.001224</td>\n",
       "      <td>0.003079</td>\n",
       "      <td>...</td>\n",
       "      <td>0.087772</td>\n",
       "      <td>0.023380</td>\n",
       "      <td>0.006632</td>\n",
       "      <td>0.332363</td>\n",
       "      <td>0</td>\n",
       "      <td>-29.506389</td>\n",
       "      <td>31.125250</td>\n",
       "      <td>12.053659</td>\n",
       "      <td>21.370224</td>\n",
       "      <td>26.566118</td>\n",
       "    </tr>\n",
       "    <tr>\n",
       "      <th>1</th>\n",
       "      <td>1807</td>\n",
       "      <td>3932.28611</td>\n",
       "      <td>11241.63945</td>\n",
       "      <td>0.190598</td>\n",
       "      <td>0.067783</td>\n",
       "      <td>0.005923</td>\n",
       "      <td>0.001667</td>\n",
       "      <td>0.000646</td>\n",
       "      <td>0.004182</td>\n",
       "      <td>0.005545</td>\n",
       "      <td>...</td>\n",
       "      <td>0.227339</td>\n",
       "      <td>0.083908</td>\n",
       "      <td>0.102629</td>\n",
       "      <td>0.227266</td>\n",
       "      <td>0</td>\n",
       "      <td>-24.719967</td>\n",
       "      <td>27.291665</td>\n",
       "      <td>2.945907</td>\n",
       "      <td>15.787635</td>\n",
       "      <td>17.421194</td>\n",
       "    </tr>\n",
       "    <tr>\n",
       "      <th>2</th>\n",
       "      <td>1725</td>\n",
       "      <td>2494.60275</td>\n",
       "      <td>8908.33125</td>\n",
       "      <td>0.955165</td>\n",
       "      <td>0.007651</td>\n",
       "      <td>0.000934</td>\n",
       "      <td>0.000431</td>\n",
       "      <td>0.000000</td>\n",
       "      <td>0.000863</td>\n",
       "      <td>0.017383</td>\n",
       "      <td>...</td>\n",
       "      <td>0.076094</td>\n",
       "      <td>0.045352</td>\n",
       "      <td>0.018145</td>\n",
       "      <td>0.307640</td>\n",
       "      <td>0</td>\n",
       "      <td>-23.511548</td>\n",
       "      <td>29.835937</td>\n",
       "      <td>4.401571</td>\n",
       "      <td>37.605587</td>\n",
       "      <td>37.432197</td>\n",
       "    </tr>\n",
       "    <tr>\n",
       "      <th>3</th>\n",
       "      <td>2325</td>\n",
       "      <td>1735.54460</td>\n",
       "      <td>6358.57912</td>\n",
       "      <td>0.916113</td>\n",
       "      <td>0.002176</td>\n",
       "      <td>0.001911</td>\n",
       "      <td>0.000000</td>\n",
       "      <td>0.000000</td>\n",
       "      <td>0.001309</td>\n",
       "      <td>0.001575</td>\n",
       "      <td>...</td>\n",
       "      <td>0.007032</td>\n",
       "      <td>0.000000</td>\n",
       "      <td>0.000000</td>\n",
       "      <td>0.017074</td>\n",
       "      <td>0</td>\n",
       "      <td>-25.337809</td>\n",
       "      <td>28.065388</td>\n",
       "      <td>10.491878</td>\n",
       "      <td>26.546377</td>\n",
       "      <td>22.184357</td>\n",
       "    </tr>\n",
       "    <tr>\n",
       "      <th>4</th>\n",
       "      <td>1559</td>\n",
       "      <td>2791.74949</td>\n",
       "      <td>10780.63737</td>\n",
       "      <td>0.836281</td>\n",
       "      <td>0.101066</td>\n",
       "      <td>0.001631</td>\n",
       "      <td>0.000803</td>\n",
       "      <td>0.000000</td>\n",
       "      <td>0.000000</td>\n",
       "      <td>0.001122</td>\n",
       "      <td>...</td>\n",
       "      <td>0.075600</td>\n",
       "      <td>0.042384</td>\n",
       "      <td>0.054012</td>\n",
       "      <td>0.503297</td>\n",
       "      <td>0</td>\n",
       "      <td>-23.639798</td>\n",
       "      <td>30.380540</td>\n",
       "      <td>12.129275</td>\n",
       "      <td>37.235070</td>\n",
       "      <td>37.440459</td>\n",
       "    </tr>\n",
       "  </tbody>\n",
       "</table>\n",
       "<p>5 rows × 59 columns</p>\n",
       "</div>"
      ],
      "text/plain": [
       "   index  total_households  total_individuals     dw_00     dw_01     dw_02  \\\n",
       "0   1365        2349.04576         6991.64058  0.806317  0.098598  0.025605   \n",
       "1   1807        3932.28611        11241.63945  0.190598  0.067783  0.005923   \n",
       "2   1725        2494.60275         8908.33125  0.955165  0.007651  0.000934   \n",
       "3   2325        1735.54460         6358.57912  0.916113  0.002176  0.001911   \n",
       "4   1559        2791.74949        10780.63737  0.836281  0.101066  0.001631   \n",
       "\n",
       "      dw_03     dw_04     dw_05     dw_06  ...     pw_03     pw_04     pw_05  \\\n",
       "0  0.000676  0.000000  0.001224  0.003079  ...  0.087772  0.023380  0.006632   \n",
       "1  0.001667  0.000646  0.004182  0.005545  ...  0.227339  0.083908  0.102629   \n",
       "2  0.000431  0.000000  0.000863  0.017383  ...  0.076094  0.045352  0.018145   \n",
       "3  0.000000  0.000000  0.001309  0.001575  ...  0.007032  0.000000  0.000000   \n",
       "4  0.000803  0.000000  0.000000  0.001122  ...  0.075600  0.042384  0.054012   \n",
       "\n",
       "      pw_06  pw_08        lat        lon         NL     target  \\\n",
       "0  0.332363      0 -29.506389  31.125250  12.053659  21.370224   \n",
       "1  0.227266      0 -24.719967  27.291665   2.945907  15.787635   \n",
       "2  0.307640      0 -23.511548  29.835937   4.401571  37.605587   \n",
       "3  0.017074      0 -25.337809  28.065388  10.491878  26.546377   \n",
       "4  0.503297      0 -23.639798  30.380540  12.129275  37.235070   \n",
       "\n",
       "   expected target  \n",
       "0        26.566118  \n",
       "1        17.421194  \n",
       "2        37.432197  \n",
       "3        22.184357  \n",
       "4        37.440459  \n",
       "\n",
       "[5 rows x 59 columns]"
      ]
     },
     "execution_count": 104,
     "metadata": {},
     "output_type": "execute_result"
    }
   ],
   "source": [
    "from sklearn.model_selection import train_test_split\n",
    "\n",
    "X_train, X_test, y_train, y_test = train_test_split(X,y, test_size=0.3, random_state=13)  \n",
    "model.fit(X_train, y_train)\n",
    "predictions = model.predict(X_test) \n",
    "X = X_test.reset_index().copy() # make a copy of indices and data\n",
    "X[\"target\"] = y_test.tolist()\n",
    "X[\"expected target\"] = predictions\n",
    "\n",
    "X.head()"
   ]
  },
  {
   "cell_type": "code",
   "execution_count": 105,
   "metadata": {
    "colab": {},
    "colab_type": "code",
    "id": "PRUvFtYk4aPf"
   },
   "outputs": [],
   "source": [
    "RESULTS = {}"
   ]
  },
  {
   "cell_type": "code",
   "execution_count": 106,
   "metadata": {
    "colab": {},
    "colab_type": "code",
    "id": "BlAU5VW3apvM"
   },
   "outputs": [],
   "source": [
    "from sklearn import metrics"
   ]
  },
  {
   "cell_type": "code",
   "execution_count": 107,
   "metadata": {
    "colab": {
     "base_uri": "https://localhost:8080/",
     "height": 34
    },
    "colab_type": "code",
    "id": "cKU6w8UJbIip",
    "outputId": "fabc9b12-b25f-429e-b26b-3045655edd2c"
   },
   "outputs": [
    {
     "name": "stdout",
     "output_type": "stream",
     "text": [
      "the R-squaared score is 0.8677038410199502\n"
     ]
    }
   ],
   "source": [
    "rsq = metrics.r2_score(y_test, predictions)\n",
    "print(f\"the R-squaared score is {rsq}\")"
   ]
  },
  {
   "cell_type": "code",
   "execution_count": 108,
   "metadata": {
    "colab": {
     "base_uri": "https://localhost:8080/",
     "height": 34
    },
    "colab_type": "code",
    "id": "V37qAJaxbLp6",
    "outputId": "3bc9435f-93f0-4a98-fb11-0b3acc805352"
   },
   "outputs": [
    {
     "data": {
      "text/plain": [
       "0.8583258854466809"
      ]
     },
     "execution_count": 108,
     "metadata": {},
     "output_type": "execute_result"
    }
   ],
   "source": [
    "adjusted_r2_model = 1 - (1-rsq)*(len(X_test)-1)/ (len(X_test)-len(model.coef_) -1)\n",
    "adjusted_r2_model"
   ]
  },
  {
   "cell_type": "markdown",
   "metadata": {
    "colab_type": "text",
    "id": "X2lrWzGk67az"
   },
   "source": [
    "Hyper Parameter"
   ]
  },
  {
   "cell_type": "code",
   "execution_count": 109,
   "metadata": {
    "colab": {},
    "colab_type": "code",
    "id": "LrBFdLNk687C"
   },
   "outputs": [],
   "source": [
    "from sklearn.model_selection import cross_validate\n",
    "\n",
    "#this is a handy function to run cross validation on whichever estimator/model family we specify\n",
    "def evaluate_model(estimator, X, y):  #define the function evaluate_model with input arguments of (estimator, X, y)\n",
    "    cv_results = cross_validate(estimator, X, y,  \n",
    "                     scoring=\"r2\", #I'm picking r^2, what are other options could we put here?\n",
    "                          n_jobs=-1, cv=3,\n",
    "                     return_train_score=True)\n",
    "    return pd.DataFrame(cv_results).mean().to_dict()"
   ]
  },
  {
   "cell_type": "code",
   "execution_count": 110,
   "metadata": {
    "colab": {},
    "colab_type": "code",
    "id": "yBxbhh0_69-k"
   },
   "outputs": [],
   "source": [
    "from sklearn.model_selection import GridSearchCV, RandomizedSearchCV"
   ]
  },
  {
   "cell_type": "code",
   "execution_count": 111,
   "metadata": {
    "colab": {},
    "colab_type": "code",
    "id": "o4tD6BR37kH4"
   },
   "outputs": [],
   "source": [
    "from sklearn.linear_model import Ridge\n",
    "\n",
    "ridgeRegression = Ridge() #instantiate linear regression"
   ]
  },
  {
   "cell_type": "code",
   "execution_count": 112,
   "metadata": {
    "colab": {},
    "colab_type": "code",
    "id": "3xTNVQMu8Oh7"
   },
   "outputs": [],
   "source": [
    "search_parameters_space = {\n",
    "    \"alpha\": [0.01, 0.1, 1, 10],  \n",
    "    \"fit_intercept\": [True, False], # fit intercept T or F\n",
    "}"
   ]
  },
  {
   "cell_type": "code",
   "execution_count": 113,
   "metadata": {
    "colab": {},
    "colab_type": "code",
    "id": "p1AMVYdO8RV7"
   },
   "outputs": [],
   "source": [
    "grid = GridSearchCV(estimator=ridgeRegression, \n",
    "                    param_grid=search_parameters_space,\n",
    "                    scoring=\"r2\",\n",
    "                    n_jobs=-1)"
   ]
  },
  {
   "cell_type": "code",
   "execution_count": 114,
   "metadata": {
    "colab": {
     "base_uri": "https://localhost:8080/",
     "height": 204
    },
    "colab_type": "code",
    "id": "mGvOorwz8TF1",
    "outputId": "6c32ea78-99bb-4314-dc42-220e9221b4f8"
   },
   "outputs": [
    {
     "name": "stdout",
     "output_type": "stream",
     "text": [
      "CPU times: user 507 ms, sys: 196 ms, total: 703 ms\n",
      "Wall time: 2.52 s\n"
     ]
    },
    {
     "data": {
      "text/plain": [
       "GridSearchCV(cv=None, error_score=nan,\n",
       "             estimator=Ridge(alpha=1.0, copy_X=True, fit_intercept=True,\n",
       "                             max_iter=None, normalize=False, random_state=None,\n",
       "                             solver='auto', tol=0.001),\n",
       "             iid='deprecated', n_jobs=-1,\n",
       "             param_grid={'alpha': [0.01, 0.1, 1, 10],\n",
       "                         'fit_intercept': [True, False]},\n",
       "             pre_dispatch='2*n_jobs', refit=True, return_train_score=False,\n",
       "             scoring='r2', verbose=0)"
      ]
     },
     "execution_count": 114,
     "metadata": {},
     "output_type": "execute_result"
    }
   ],
   "source": [
    "%%time\n",
    "grid.fit(X_train, y_train)"
   ]
  },
  {
   "cell_type": "code",
   "execution_count": 115,
   "metadata": {
    "colab": {
     "base_uri": "https://localhost:8080/",
     "height": 34
    },
    "colab_type": "code",
    "id": "HI7dCqER8Xsa",
    "outputId": "34ba9b4a-6b93-4a9b-f8e9-050818e3f886"
   },
   "outputs": [
    {
     "name": "stdout",
     "output_type": "stream",
     "text": [
      "0.853694774175706\n"
     ]
    }
   ],
   "source": [
    "print(grid.best_score_)"
   ]
  },
  {
   "cell_type": "code",
   "execution_count": 116,
   "metadata": {
    "colab": {
     "base_uri": "https://localhost:8080/",
     "height": 34
    },
    "colab_type": "code",
    "id": "EQmS71On8aic",
    "outputId": "44c9f7a0-7f51-4526-96fb-b90cbc53e92b"
   },
   "outputs": [
    {
     "data": {
      "text/plain": [
       "{'alpha': 0.1, 'fit_intercept': False}"
      ]
     },
     "execution_count": 116,
     "metadata": {},
     "output_type": "execute_result"
    }
   ],
   "source": [
    "grid.best_params_"
   ]
  },
  {
   "cell_type": "code",
   "execution_count": 117,
   "metadata": {
    "colab": {
     "base_uri": "https://localhost:8080/",
     "height": 51
    },
    "colab_type": "code",
    "id": "fDn87Ar78d-x",
    "outputId": "ffd00d73-84d8-4b24-edeb-2a4c734b1b36"
   },
   "outputs": [
    {
     "data": {
      "text/plain": [
       "Ridge(alpha=0.1, copy_X=True, fit_intercept=False, max_iter=None,\n",
       "      normalize=False, random_state=None, solver='auto', tol=0.001)"
      ]
     },
     "execution_count": 117,
     "metadata": {},
     "output_type": "execute_result"
    }
   ],
   "source": [
    "grid.best_estimator_"
   ]
  },
  {
   "cell_type": "code",
   "execution_count": 118,
   "metadata": {
    "colab": {
     "base_uri": "https://localhost:8080/",
     "height": 623
    },
    "colab_type": "code",
    "id": "ig9IpygK8hJ9",
    "outputId": "cae9e0b7-24a4-4ac0-e19d-8887bb0f9c4a"
   },
   "outputs": [
    {
     "data": {
      "text/html": [
       "<div>\n",
       "<style scoped>\n",
       "    .dataframe tbody tr th:only-of-type {\n",
       "        vertical-align: middle;\n",
       "    }\n",
       "\n",
       "    .dataframe tbody tr th {\n",
       "        vertical-align: top;\n",
       "    }\n",
       "\n",
       "    .dataframe thead th {\n",
       "        text-align: right;\n",
       "    }\n",
       "</style>\n",
       "<table border=\"1\" class=\"dataframe\">\n",
       "  <thead>\n",
       "    <tr style=\"text-align: right;\">\n",
       "      <th></th>\n",
       "      <th>mean_fit_time</th>\n",
       "      <th>std_fit_time</th>\n",
       "      <th>mean_score_time</th>\n",
       "      <th>std_score_time</th>\n",
       "      <th>param_alpha</th>\n",
       "      <th>param_fit_intercept</th>\n",
       "      <th>params</th>\n",
       "      <th>split0_test_score</th>\n",
       "      <th>split1_test_score</th>\n",
       "      <th>split2_test_score</th>\n",
       "      <th>split3_test_score</th>\n",
       "      <th>split4_test_score</th>\n",
       "      <th>mean_test_score</th>\n",
       "      <th>std_test_score</th>\n",
       "      <th>rank_test_score</th>\n",
       "    </tr>\n",
       "  </thead>\n",
       "  <tbody>\n",
       "    <tr>\n",
       "      <th>3</th>\n",
       "      <td>0.006203</td>\n",
       "      <td>0.000779</td>\n",
       "      <td>0.002082</td>\n",
       "      <td>0.000613</td>\n",
       "      <td>0.1</td>\n",
       "      <td>False</td>\n",
       "      <td>{'alpha': 0.1, 'fit_intercept': False}</td>\n",
       "      <td>0.834023</td>\n",
       "      <td>0.867335</td>\n",
       "      <td>0.841767</td>\n",
       "      <td>0.855775</td>\n",
       "      <td>0.869574</td>\n",
       "      <td>0.853695</td>\n",
       "      <td>0.013941</td>\n",
       "      <td>1</td>\n",
       "    </tr>\n",
       "    <tr>\n",
       "      <th>2</th>\n",
       "      <td>0.008725</td>\n",
       "      <td>0.003025</td>\n",
       "      <td>0.002514</td>\n",
       "      <td>0.000824</td>\n",
       "      <td>0.1</td>\n",
       "      <td>True</td>\n",
       "      <td>{'alpha': 0.1, 'fit_intercept': True}</td>\n",
       "      <td>0.834211</td>\n",
       "      <td>0.867003</td>\n",
       "      <td>0.841722</td>\n",
       "      <td>0.855962</td>\n",
       "      <td>0.869562</td>\n",
       "      <td>0.853692</td>\n",
       "      <td>0.013835</td>\n",
       "      <td>2</td>\n",
       "    </tr>\n",
       "    <tr>\n",
       "      <th>0</th>\n",
       "      <td>0.029623</td>\n",
       "      <td>0.029527</td>\n",
       "      <td>0.002300</td>\n",
       "      <td>0.000347</td>\n",
       "      <td>0.01</td>\n",
       "      <td>True</td>\n",
       "      <td>{'alpha': 0.01, 'fit_intercept': True}</td>\n",
       "      <td>0.835013</td>\n",
       "      <td>0.867235</td>\n",
       "      <td>0.840199</td>\n",
       "      <td>0.855259</td>\n",
       "      <td>0.869090</td>\n",
       "      <td>0.853359</td>\n",
       "      <td>0.013809</td>\n",
       "      <td>3</td>\n",
       "    </tr>\n",
       "    <tr>\n",
       "      <th>1</th>\n",
       "      <td>0.041774</td>\n",
       "      <td>0.039249</td>\n",
       "      <td>0.004070</td>\n",
       "      <td>0.001543</td>\n",
       "      <td>0.01</td>\n",
       "      <td>False</td>\n",
       "      <td>{'alpha': 0.01, 'fit_intercept': False}</td>\n",
       "      <td>0.834998</td>\n",
       "      <td>0.867280</td>\n",
       "      <td>0.840157</td>\n",
       "      <td>0.855239</td>\n",
       "      <td>0.869092</td>\n",
       "      <td>0.853353</td>\n",
       "      <td>0.013829</td>\n",
       "      <td>4</td>\n",
       "    </tr>\n",
       "    <tr>\n",
       "      <th>4</th>\n",
       "      <td>0.005965</td>\n",
       "      <td>0.001073</td>\n",
       "      <td>0.002040</td>\n",
       "      <td>0.000561</td>\n",
       "      <td>1</td>\n",
       "      <td>True</td>\n",
       "      <td>{'alpha': 1, 'fit_intercept': True}</td>\n",
       "      <td>0.827734</td>\n",
       "      <td>0.857229</td>\n",
       "      <td>0.843364</td>\n",
       "      <td>0.851730</td>\n",
       "      <td>0.869678</td>\n",
       "      <td>0.849947</td>\n",
       "      <td>0.014016</td>\n",
       "      <td>5</td>\n",
       "    </tr>\n",
       "    <tr>\n",
       "      <th>5</th>\n",
       "      <td>0.004050</td>\n",
       "      <td>0.000589</td>\n",
       "      <td>0.001731</td>\n",
       "      <td>0.000370</td>\n",
       "      <td>1</td>\n",
       "      <td>False</td>\n",
       "      <td>{'alpha': 1, 'fit_intercept': False}</td>\n",
       "      <td>0.826352</td>\n",
       "      <td>0.858449</td>\n",
       "      <td>0.843931</td>\n",
       "      <td>0.850399</td>\n",
       "      <td>0.869104</td>\n",
       "      <td>0.849647</td>\n",
       "      <td>0.014366</td>\n",
       "      <td>6</td>\n",
       "    </tr>\n",
       "    <tr>\n",
       "      <th>6</th>\n",
       "      <td>0.004354</td>\n",
       "      <td>0.001159</td>\n",
       "      <td>0.001450</td>\n",
       "      <td>0.000254</td>\n",
       "      <td>10</td>\n",
       "      <td>True</td>\n",
       "      <td>{'alpha': 10, 'fit_intercept': True}</td>\n",
       "      <td>0.778503</td>\n",
       "      <td>0.809050</td>\n",
       "      <td>0.817478</td>\n",
       "      <td>0.818179</td>\n",
       "      <td>0.848124</td>\n",
       "      <td>0.814267</td>\n",
       "      <td>0.022263</td>\n",
       "      <td>7</td>\n",
       "    </tr>\n",
       "    <tr>\n",
       "      <th>7</th>\n",
       "      <td>0.004448</td>\n",
       "      <td>0.000498</td>\n",
       "      <td>0.001453</td>\n",
       "      <td>0.000253</td>\n",
       "      <td>10</td>\n",
       "      <td>False</td>\n",
       "      <td>{'alpha': 10, 'fit_intercept': False}</td>\n",
       "      <td>0.777439</td>\n",
       "      <td>0.809760</td>\n",
       "      <td>0.818299</td>\n",
       "      <td>0.817216</td>\n",
       "      <td>0.847138</td>\n",
       "      <td>0.813971</td>\n",
       "      <td>0.022278</td>\n",
       "      <td>8</td>\n",
       "    </tr>\n",
       "  </tbody>\n",
       "</table>\n",
       "</div>"
      ],
      "text/plain": [
       "   mean_fit_time  std_fit_time  mean_score_time  std_score_time param_alpha  \\\n",
       "3       0.006203      0.000779         0.002082        0.000613         0.1   \n",
       "2       0.008725      0.003025         0.002514        0.000824         0.1   \n",
       "0       0.029623      0.029527         0.002300        0.000347        0.01   \n",
       "1       0.041774      0.039249         0.004070        0.001543        0.01   \n",
       "4       0.005965      0.001073         0.002040        0.000561           1   \n",
       "5       0.004050      0.000589         0.001731        0.000370           1   \n",
       "6       0.004354      0.001159         0.001450        0.000254          10   \n",
       "7       0.004448      0.000498         0.001453        0.000253          10   \n",
       "\n",
       "  param_fit_intercept                                   params  \\\n",
       "3               False   {'alpha': 0.1, 'fit_intercept': False}   \n",
       "2                True    {'alpha': 0.1, 'fit_intercept': True}   \n",
       "0                True   {'alpha': 0.01, 'fit_intercept': True}   \n",
       "1               False  {'alpha': 0.01, 'fit_intercept': False}   \n",
       "4                True      {'alpha': 1, 'fit_intercept': True}   \n",
       "5               False     {'alpha': 1, 'fit_intercept': False}   \n",
       "6                True     {'alpha': 10, 'fit_intercept': True}   \n",
       "7               False    {'alpha': 10, 'fit_intercept': False}   \n",
       "\n",
       "   split0_test_score  split1_test_score  split2_test_score  split3_test_score  \\\n",
       "3           0.834023           0.867335           0.841767           0.855775   \n",
       "2           0.834211           0.867003           0.841722           0.855962   \n",
       "0           0.835013           0.867235           0.840199           0.855259   \n",
       "1           0.834998           0.867280           0.840157           0.855239   \n",
       "4           0.827734           0.857229           0.843364           0.851730   \n",
       "5           0.826352           0.858449           0.843931           0.850399   \n",
       "6           0.778503           0.809050           0.817478           0.818179   \n",
       "7           0.777439           0.809760           0.818299           0.817216   \n",
       "\n",
       "   split4_test_score  mean_test_score  std_test_score  rank_test_score  \n",
       "3           0.869574         0.853695        0.013941                1  \n",
       "2           0.869562         0.853692        0.013835                2  \n",
       "0           0.869090         0.853359        0.013809                3  \n",
       "1           0.869092         0.853353        0.013829                4  \n",
       "4           0.869678         0.849947        0.014016                5  \n",
       "5           0.869104         0.849647        0.014366                6  \n",
       "6           0.848124         0.814267        0.022263                7  \n",
       "7           0.847138         0.813971        0.022278                8  "
      ]
     },
     "execution_count": 118,
     "metadata": {},
     "output_type": "execute_result"
    }
   ],
   "source": [
    "pd.DataFrame(grid.cv_results_).sort_values(by=\"rank_test_score\")"
   ]
  },
  {
   "cell_type": "code",
   "execution_count": 119,
   "metadata": {
    "colab": {},
    "colab_type": "code",
    "id": "L3TRkfeM8oO4"
   },
   "outputs": [],
   "source": [
    "RESULTS[\"ridge_gridsearch\"] = evaluate_model(grid.best_estimator_,\n",
    "                                             X_test, y_test)"
   ]
  },
  {
   "cell_type": "code",
   "execution_count": 120,
   "metadata": {
    "colab": {
     "base_uri": "https://localhost:8080/",
     "height": 85
    },
    "colab_type": "code",
    "id": "l6n56cAN8o_k",
    "outputId": "637fadc6-50af-44cc-bd38-076963cce458"
   },
   "outputs": [
    {
     "data": {
      "text/plain": [
       "{'ridge_gridsearch': {'fit_time': 0.0034068425496419272,\n",
       "  'score_time': 0.0011710325876871746,\n",
       "  'test_score': 0.8619863067644804,\n",
       "  'train_score': 0.8821386217402823}}"
      ]
     },
     "execution_count": 120,
     "metadata": {},
     "output_type": "execute_result"
    }
   ],
   "source": [
    "RESULTS"
   ]
  },
  {
   "cell_type": "markdown",
   "metadata": {
    "colab_type": "text",
    "id": "rV3Cl22u8tRf"
   },
   "source": [
    "Randomized Search"
   ]
  },
  {
   "cell_type": "code",
   "execution_count": 121,
   "metadata": {
    "colab": {},
    "colab_type": "code",
    "id": "is3CF1FW814o"
   },
   "outputs": [],
   "source": [
    "from scipy.stats import randint as sp_randint\n",
    "from scipy.stats import uniform \n",
    "\n",
    "search_parameters_space_random = {\n",
    "    \"alpha\": uniform(loc=0.1, scale=10), \n",
    "    \"fit_intercept\": [True, False]\n",
    "}"
   ]
  },
  {
   "cell_type": "code",
   "execution_count": 122,
   "metadata": {
    "colab": {},
    "colab_type": "code",
    "id": "Ud_TnpDu82hA"
   },
   "outputs": [],
   "source": [
    "random_search = RandomizedSearchCV(\n",
    "    estimator=ridgeRegression, \n",
    "    param_distributions=search_parameters_space_random,\n",
    "   scoring=\"r2\", n_jobs=-1, \n",
    "    n_iter=50)"
   ]
  },
  {
   "cell_type": "code",
   "execution_count": 123,
   "metadata": {
    "colab": {
     "base_uri": "https://localhost:8080/",
     "height": 221
    },
    "colab_type": "code",
    "id": "K67xjgnJ84gH",
    "outputId": "ba2e93d2-ef4e-4e37-9915-7993a0885f71"
   },
   "outputs": [
    {
     "name": "stdout",
     "output_type": "stream",
     "text": [
      "CPU times: user 405 ms, sys: 33.8 ms, total: 438 ms\n",
      "Wall time: 513 ms\n"
     ]
    },
    {
     "data": {
      "text/plain": [
       "RandomizedSearchCV(cv=None, error_score=nan,\n",
       "                   estimator=Ridge(alpha=1.0, copy_X=True, fit_intercept=True,\n",
       "                                   max_iter=None, normalize=False,\n",
       "                                   random_state=None, solver='auto',\n",
       "                                   tol=0.001),\n",
       "                   iid='deprecated', n_iter=50, n_jobs=-1,\n",
       "                   param_distributions={'alpha': <scipy.stats._distn_infrastructure.rv_frozen object at 0x1a1da74b50>,\n",
       "                                        'fit_intercept': [True, False]},\n",
       "                   pre_dispatch='2*n_jobs', random_state=None, refit=True,\n",
       "                   return_train_score=False, scoring='r2', verbose=0)"
      ]
     },
     "execution_count": 123,
     "metadata": {},
     "output_type": "execute_result"
    }
   ],
   "source": [
    "%%time\n",
    "random_search.fit(X_train, y_train)"
   ]
  },
  {
   "cell_type": "code",
   "execution_count": 124,
   "metadata": {
    "colab": {
     "base_uri": "https://localhost:8080/",
     "height": 34
    },
    "colab_type": "code",
    "id": "vebPs-Ld86cP",
    "outputId": "91fcb24d-cb37-46eb-ee12-fe092f37dd21"
   },
   "outputs": [
    {
     "data": {
      "text/plain": [
       "0.8535602845558113"
      ]
     },
     "execution_count": 124,
     "metadata": {},
     "output_type": "execute_result"
    }
   ],
   "source": [
    "random_search.best_score_"
   ]
  },
  {
   "cell_type": "code",
   "execution_count": 125,
   "metadata": {
    "colab": {},
    "colab_type": "code",
    "id": "ugh4rbf-89Xr"
   },
   "outputs": [],
   "source": [
    "RESULTS[\"ridge_randomizedsearch\"] = evaluate_model(\n",
    "    random_search.best_estimator_,\n",
    "    X_test, y_test\n",
    ")"
   ]
  },
  {
   "cell_type": "code",
   "execution_count": 126,
   "metadata": {
    "colab": {
     "base_uri": "https://localhost:8080/",
     "height": 111
    },
    "colab_type": "code",
    "id": "0Qrws1FI8_mb",
    "outputId": "644e293c-7aa4-4bff-b363-c8896c793c0d"
   },
   "outputs": [
    {
     "data": {
      "text/html": [
       "<div>\n",
       "<style scoped>\n",
       "    .dataframe tbody tr th:only-of-type {\n",
       "        vertical-align: middle;\n",
       "    }\n",
       "\n",
       "    .dataframe tbody tr th {\n",
       "        vertical-align: top;\n",
       "    }\n",
       "\n",
       "    .dataframe thead th {\n",
       "        text-align: right;\n",
       "    }\n",
       "</style>\n",
       "<table border=\"1\" class=\"dataframe\">\n",
       "  <thead>\n",
       "    <tr style=\"text-align: right;\">\n",
       "      <th></th>\n",
       "      <th>fit_time</th>\n",
       "      <th>score_time</th>\n",
       "      <th>test_score</th>\n",
       "      <th>train_score</th>\n",
       "    </tr>\n",
       "  </thead>\n",
       "  <tbody>\n",
       "    <tr>\n",
       "      <th>ridge_gridsearch</th>\n",
       "      <td>0.003407</td>\n",
       "      <td>0.001171</td>\n",
       "      <td>0.861986</td>\n",
       "      <td>0.882139</td>\n",
       "    </tr>\n",
       "    <tr>\n",
       "      <th>ridge_randomizedsearch</th>\n",
       "      <td>0.003605</td>\n",
       "      <td>0.001440</td>\n",
       "      <td>0.862043</td>\n",
       "      <td>0.881158</td>\n",
       "    </tr>\n",
       "  </tbody>\n",
       "</table>\n",
       "</div>"
      ],
      "text/plain": [
       "                        fit_time  score_time  test_score  train_score\n",
       "ridge_gridsearch        0.003407    0.001171    0.861986     0.882139\n",
       "ridge_randomizedsearch  0.003605    0.001440    0.862043     0.881158"
      ]
     },
     "execution_count": 126,
     "metadata": {},
     "output_type": "execute_result"
    }
   ],
   "source": [
    "pd.DataFrame.from_dict(RESULTS).T"
   ]
  },
  {
   "cell_type": "code",
   "execution_count": 127,
   "metadata": {
    "colab": {},
    "colab_type": "code",
    "id": "IXuzrJLJCeU8"
   },
   "outputs": [],
   "source": [
    "from sklearn import metrics"
   ]
  },
  {
   "cell_type": "code",
   "execution_count": 128,
   "metadata": {
    "colab": {
     "base_uri": "https://localhost:8080/",
     "height": 34
    },
    "colab_type": "code",
    "id": "gwOQT8JFCk95",
    "outputId": "d3823d8d-8e8e-457d-e862-244e1efcd75e"
   },
   "outputs": [
    {
     "name": "stdout",
     "output_type": "stream",
     "text": [
      "the Root Mean Squared Error is 3.7786630212511505\n"
     ]
    }
   ],
   "source": [
    "rmse = np.sqrt(metrics.mean_squared_error(y_test, predictions))\n",
    "print(f\"the Root Mean Squared Error is {rmse}\")"
   ]
  },
  {
   "cell_type": "code",
   "execution_count": 129,
   "metadata": {},
   "outputs": [
    {
     "data": {
      "text/html": [
       "<div>\n",
       "<style scoped>\n",
       "    .dataframe tbody tr th:only-of-type {\n",
       "        vertical-align: middle;\n",
       "    }\n",
       "\n",
       "    .dataframe tbody tr th {\n",
       "        vertical-align: top;\n",
       "    }\n",
       "\n",
       "    .dataframe thead th {\n",
       "        text-align: right;\n",
       "    }\n",
       "</style>\n",
       "<table border=\"1\" class=\"dataframe\">\n",
       "  <thead>\n",
       "    <tr style=\"text-align: right;\">\n",
       "      <th></th>\n",
       "      <th>index</th>\n",
       "      <th>total_households</th>\n",
       "      <th>total_individuals</th>\n",
       "      <th>dw_00</th>\n",
       "      <th>dw_01</th>\n",
       "      <th>dw_02</th>\n",
       "      <th>dw_03</th>\n",
       "      <th>dw_04</th>\n",
       "      <th>dw_05</th>\n",
       "      <th>dw_06</th>\n",
       "      <th>...</th>\n",
       "      <th>pw_03</th>\n",
       "      <th>pw_04</th>\n",
       "      <th>pw_05</th>\n",
       "      <th>pw_06</th>\n",
       "      <th>pw_08</th>\n",
       "      <th>lat</th>\n",
       "      <th>lon</th>\n",
       "      <th>NL</th>\n",
       "      <th>target</th>\n",
       "      <th>expected target</th>\n",
       "    </tr>\n",
       "  </thead>\n",
       "  <tbody>\n",
       "    <tr>\n",
       "      <th>0</th>\n",
       "      <td>1365</td>\n",
       "      <td>2349.04576</td>\n",
       "      <td>6991.64058</td>\n",
       "      <td>0.806317</td>\n",
       "      <td>0.098598</td>\n",
       "      <td>0.025605</td>\n",
       "      <td>0.000676</td>\n",
       "      <td>0.000000</td>\n",
       "      <td>0.001224</td>\n",
       "      <td>0.003079</td>\n",
       "      <td>...</td>\n",
       "      <td>0.087772</td>\n",
       "      <td>0.023380</td>\n",
       "      <td>0.006632</td>\n",
       "      <td>0.332363</td>\n",
       "      <td>0</td>\n",
       "      <td>-29.506389</td>\n",
       "      <td>31.125250</td>\n",
       "      <td>12.053659</td>\n",
       "      <td>21.370224</td>\n",
       "      <td>26.566118</td>\n",
       "    </tr>\n",
       "    <tr>\n",
       "      <th>1</th>\n",
       "      <td>1807</td>\n",
       "      <td>3932.28611</td>\n",
       "      <td>11241.63945</td>\n",
       "      <td>0.190598</td>\n",
       "      <td>0.067783</td>\n",
       "      <td>0.005923</td>\n",
       "      <td>0.001667</td>\n",
       "      <td>0.000646</td>\n",
       "      <td>0.004182</td>\n",
       "      <td>0.005545</td>\n",
       "      <td>...</td>\n",
       "      <td>0.227339</td>\n",
       "      <td>0.083908</td>\n",
       "      <td>0.102629</td>\n",
       "      <td>0.227266</td>\n",
       "      <td>0</td>\n",
       "      <td>-24.719967</td>\n",
       "      <td>27.291665</td>\n",
       "      <td>2.945907</td>\n",
       "      <td>15.787635</td>\n",
       "      <td>17.421194</td>\n",
       "    </tr>\n",
       "    <tr>\n",
       "      <th>2</th>\n",
       "      <td>1725</td>\n",
       "      <td>2494.60275</td>\n",
       "      <td>8908.33125</td>\n",
       "      <td>0.955165</td>\n",
       "      <td>0.007651</td>\n",
       "      <td>0.000934</td>\n",
       "      <td>0.000431</td>\n",
       "      <td>0.000000</td>\n",
       "      <td>0.000863</td>\n",
       "      <td>0.017383</td>\n",
       "      <td>...</td>\n",
       "      <td>0.076094</td>\n",
       "      <td>0.045352</td>\n",
       "      <td>0.018145</td>\n",
       "      <td>0.307640</td>\n",
       "      <td>0</td>\n",
       "      <td>-23.511548</td>\n",
       "      <td>29.835937</td>\n",
       "      <td>4.401571</td>\n",
       "      <td>37.605587</td>\n",
       "      <td>37.432197</td>\n",
       "    </tr>\n",
       "    <tr>\n",
       "      <th>3</th>\n",
       "      <td>2325</td>\n",
       "      <td>1735.54460</td>\n",
       "      <td>6358.57912</td>\n",
       "      <td>0.916113</td>\n",
       "      <td>0.002176</td>\n",
       "      <td>0.001911</td>\n",
       "      <td>0.000000</td>\n",
       "      <td>0.000000</td>\n",
       "      <td>0.001309</td>\n",
       "      <td>0.001575</td>\n",
       "      <td>...</td>\n",
       "      <td>0.007032</td>\n",
       "      <td>0.000000</td>\n",
       "      <td>0.000000</td>\n",
       "      <td>0.017074</td>\n",
       "      <td>0</td>\n",
       "      <td>-25.337809</td>\n",
       "      <td>28.065388</td>\n",
       "      <td>10.491878</td>\n",
       "      <td>26.546377</td>\n",
       "      <td>22.184357</td>\n",
       "    </tr>\n",
       "    <tr>\n",
       "      <th>4</th>\n",
       "      <td>1559</td>\n",
       "      <td>2791.74949</td>\n",
       "      <td>10780.63737</td>\n",
       "      <td>0.836281</td>\n",
       "      <td>0.101066</td>\n",
       "      <td>0.001631</td>\n",
       "      <td>0.000803</td>\n",
       "      <td>0.000000</td>\n",
       "      <td>0.000000</td>\n",
       "      <td>0.001122</td>\n",
       "      <td>...</td>\n",
       "      <td>0.075600</td>\n",
       "      <td>0.042384</td>\n",
       "      <td>0.054012</td>\n",
       "      <td>0.503297</td>\n",
       "      <td>0</td>\n",
       "      <td>-23.639798</td>\n",
       "      <td>30.380540</td>\n",
       "      <td>12.129275</td>\n",
       "      <td>37.235070</td>\n",
       "      <td>37.440459</td>\n",
       "    </tr>\n",
       "  </tbody>\n",
       "</table>\n",
       "<p>5 rows × 59 columns</p>\n",
       "</div>"
      ],
      "text/plain": [
       "   index  total_households  total_individuals     dw_00     dw_01     dw_02  \\\n",
       "0   1365        2349.04576         6991.64058  0.806317  0.098598  0.025605   \n",
       "1   1807        3932.28611        11241.63945  0.190598  0.067783  0.005923   \n",
       "2   1725        2494.60275         8908.33125  0.955165  0.007651  0.000934   \n",
       "3   2325        1735.54460         6358.57912  0.916113  0.002176  0.001911   \n",
       "4   1559        2791.74949        10780.63737  0.836281  0.101066  0.001631   \n",
       "\n",
       "      dw_03     dw_04     dw_05     dw_06  ...     pw_03     pw_04     pw_05  \\\n",
       "0  0.000676  0.000000  0.001224  0.003079  ...  0.087772  0.023380  0.006632   \n",
       "1  0.001667  0.000646  0.004182  0.005545  ...  0.227339  0.083908  0.102629   \n",
       "2  0.000431  0.000000  0.000863  0.017383  ...  0.076094  0.045352  0.018145   \n",
       "3  0.000000  0.000000  0.001309  0.001575  ...  0.007032  0.000000  0.000000   \n",
       "4  0.000803  0.000000  0.000000  0.001122  ...  0.075600  0.042384  0.054012   \n",
       "\n",
       "      pw_06  pw_08        lat        lon         NL     target  \\\n",
       "0  0.332363      0 -29.506389  31.125250  12.053659  21.370224   \n",
       "1  0.227266      0 -24.719967  27.291665   2.945907  15.787635   \n",
       "2  0.307640      0 -23.511548  29.835937   4.401571  37.605587   \n",
       "3  0.017074      0 -25.337809  28.065388  10.491878  26.546377   \n",
       "4  0.503297      0 -23.639798  30.380540  12.129275  37.235070   \n",
       "\n",
       "   expected target  \n",
       "0        26.566118  \n",
       "1        17.421194  \n",
       "2        37.432197  \n",
       "3        22.184357  \n",
       "4        37.440459  \n",
       "\n",
       "[5 rows x 59 columns]"
      ]
     },
     "execution_count": 129,
     "metadata": {},
     "output_type": "execute_result"
    }
   ],
   "source": [
    "X.head()"
   ]
  },
  {
   "cell_type": "code",
   "execution_count": 130,
   "metadata": {},
   "outputs": [
    {
     "data": {
      "text/html": [
       "<div>\n",
       "<style scoped>\n",
       "    .dataframe tbody tr th:only-of-type {\n",
       "        vertical-align: middle;\n",
       "    }\n",
       "\n",
       "    .dataframe tbody tr th {\n",
       "        vertical-align: top;\n",
       "    }\n",
       "\n",
       "    .dataframe thead th {\n",
       "        text-align: right;\n",
       "    }\n",
       "</style>\n",
       "<table border=\"1\" class=\"dataframe\">\n",
       "  <thead>\n",
       "    <tr style=\"text-align: right;\">\n",
       "      <th></th>\n",
       "      <th>ward</th>\n",
       "      <th>total_households</th>\n",
       "      <th>total_individuals</th>\n",
       "      <th>dw_00</th>\n",
       "      <th>dw_01</th>\n",
       "      <th>dw_02</th>\n",
       "      <th>dw_03</th>\n",
       "      <th>dw_04</th>\n",
       "      <th>dw_05</th>\n",
       "      <th>dw_06</th>\n",
       "      <th>...</th>\n",
       "      <th>pw_02</th>\n",
       "      <th>pw_03</th>\n",
       "      <th>pw_04</th>\n",
       "      <th>pw_05</th>\n",
       "      <th>pw_06</th>\n",
       "      <th>pw_08</th>\n",
       "      <th>lat</th>\n",
       "      <th>lon</th>\n",
       "      <th>NL</th>\n",
       "      <th>target</th>\n",
       "    </tr>\n",
       "  </thead>\n",
       "  <tbody>\n",
       "    <tr>\n",
       "      <th>0</th>\n",
       "      <td>21001001: Ward 1</td>\n",
       "      <td>2504.95194</td>\n",
       "      <td>8745.15151</td>\n",
       "      <td>0.947257</td>\n",
       "      <td>0.000873</td>\n",
       "      <td>0.002021</td>\n",
       "      <td>0.000000</td>\n",
       "      <td>0.000000</td>\n",
       "      <td>0.030116</td>\n",
       "      <td>0.000452</td>\n",
       "      <td>...</td>\n",
       "      <td>0.012457</td>\n",
       "      <td>0.001757</td>\n",
       "      <td>0.000000</td>\n",
       "      <td>0.0</td>\n",
       "      <td>0.006649</td>\n",
       "      <td>0.0</td>\n",
       "      <td>-32.637758</td>\n",
       "      <td>23.848688</td>\n",
       "      <td>0.000000</td>\n",
       "      <td>20.546466</td>\n",
       "    </tr>\n",
       "    <tr>\n",
       "      <th>1</th>\n",
       "      <td>21001002: Ward 2</td>\n",
       "      <td>2080.27718</td>\n",
       "      <td>7258.11764</td>\n",
       "      <td>0.844993</td>\n",
       "      <td>0.000481</td>\n",
       "      <td>0.043629</td>\n",
       "      <td>0.004714</td>\n",
       "      <td>0.012323</td>\n",
       "      <td>0.012300</td>\n",
       "      <td>0.022132</td>\n",
       "      <td>...</td>\n",
       "      <td>0.009606</td>\n",
       "      <td>0.000691</td>\n",
       "      <td>0.000000</td>\n",
       "      <td>0.0</td>\n",
       "      <td>0.002916</td>\n",
       "      <td>0.0</td>\n",
       "      <td>-31.990536</td>\n",
       "      <td>24.555818</td>\n",
       "      <td>0.000000</td>\n",
       "      <td>12.968441</td>\n",
       "    </tr>\n",
       "    <tr>\n",
       "      <th>2</th>\n",
       "      <td>21001003: Ward 3</td>\n",
       "      <td>1106.62639</td>\n",
       "      <td>5919.13170</td>\n",
       "      <td>0.651380</td>\n",
       "      <td>0.007937</td>\n",
       "      <td>0.007113</td>\n",
       "      <td>0.000000</td>\n",
       "      <td>0.001977</td>\n",
       "      <td>0.259711</td>\n",
       "      <td>0.006505</td>\n",
       "      <td>...</td>\n",
       "      <td>0.001996</td>\n",
       "      <td>0.002253</td>\n",
       "      <td>0.000000</td>\n",
       "      <td>0.0</td>\n",
       "      <td>0.000000</td>\n",
       "      <td>0.0</td>\n",
       "      <td>-32.283595</td>\n",
       "      <td>24.563940</td>\n",
       "      <td>8.269556</td>\n",
       "      <td>22.146106</td>\n",
       "    </tr>\n",
       "    <tr>\n",
       "      <th>3</th>\n",
       "      <td>21001004: Ward 4</td>\n",
       "      <td>2175.56096</td>\n",
       "      <td>10280.57452</td>\n",
       "      <td>0.410837</td>\n",
       "      <td>0.002468</td>\n",
       "      <td>0.011511</td>\n",
       "      <td>0.000485</td>\n",
       "      <td>0.000000</td>\n",
       "      <td>0.449604</td>\n",
       "      <td>0.009256</td>\n",
       "      <td>...</td>\n",
       "      <td>0.002060</td>\n",
       "      <td>0.000000</td>\n",
       "      <td>0.000661</td>\n",
       "      <td>0.0</td>\n",
       "      <td>0.001379</td>\n",
       "      <td>0.0</td>\n",
       "      <td>-32.261612</td>\n",
       "      <td>24.542202</td>\n",
       "      <td>8.626625</td>\n",
       "      <td>18.026114</td>\n",
       "    </tr>\n",
       "    <tr>\n",
       "      <th>4</th>\n",
       "      <td>21001005: Ward 5</td>\n",
       "      <td>1270.83883</td>\n",
       "      <td>6018.34202</td>\n",
       "      <td>0.942851</td>\n",
       "      <td>0.002638</td>\n",
       "      <td>0.000821</td>\n",
       "      <td>0.000000</td>\n",
       "      <td>0.000891</td>\n",
       "      <td>0.000787</td>\n",
       "      <td>0.000830</td>\n",
       "      <td>...</td>\n",
       "      <td>0.000787</td>\n",
       "      <td>0.000000</td>\n",
       "      <td>0.000000</td>\n",
       "      <td>0.0</td>\n",
       "      <td>0.001660</td>\n",
       "      <td>0.0</td>\n",
       "      <td>-32.251571</td>\n",
       "      <td>24.558537</td>\n",
       "      <td>8.601754</td>\n",
       "      <td>22.192310</td>\n",
       "    </tr>\n",
       "  </tbody>\n",
       "</table>\n",
       "<p>5 rows × 58 columns</p>\n",
       "</div>"
      ],
      "text/plain": [
       "               ward  total_households  total_individuals     dw_00     dw_01  \\\n",
       "0  21001001: Ward 1        2504.95194         8745.15151  0.947257  0.000873   \n",
       "1  21001002: Ward 2        2080.27718         7258.11764  0.844993  0.000481   \n",
       "2  21001003: Ward 3        1106.62639         5919.13170  0.651380  0.007937   \n",
       "3  21001004: Ward 4        2175.56096        10280.57452  0.410837  0.002468   \n",
       "4  21001005: Ward 5        1270.83883         6018.34202  0.942851  0.002638   \n",
       "\n",
       "      dw_02     dw_03     dw_04     dw_05     dw_06  ...     pw_02     pw_03  \\\n",
       "0  0.002021  0.000000  0.000000  0.030116  0.000452  ...  0.012457  0.001757   \n",
       "1  0.043629  0.004714  0.012323  0.012300  0.022132  ...  0.009606  0.000691   \n",
       "2  0.007113  0.000000  0.001977  0.259711  0.006505  ...  0.001996  0.002253   \n",
       "3  0.011511  0.000485  0.000000  0.449604  0.009256  ...  0.002060  0.000000   \n",
       "4  0.000821  0.000000  0.000891  0.000787  0.000830  ...  0.000787  0.000000   \n",
       "\n",
       "      pw_04  pw_05     pw_06  pw_08        lat        lon        NL     target  \n",
       "0  0.000000    0.0  0.006649    0.0 -32.637758  23.848688  0.000000  20.546466  \n",
       "1  0.000000    0.0  0.002916    0.0 -31.990536  24.555818  0.000000  12.968441  \n",
       "2  0.000000    0.0  0.000000    0.0 -32.283595  24.563940  8.269556  22.146106  \n",
       "3  0.000661    0.0  0.001379    0.0 -32.261612  24.542202  8.626625  18.026114  \n",
       "4  0.000000    0.0  0.001660    0.0 -32.251571  24.558537  8.601754  22.192310  \n",
       "\n",
       "[5 rows x 58 columns]"
      ]
     },
     "execution_count": 130,
     "metadata": {},
     "output_type": "execute_result"
    }
   ],
   "source": [
    "test['target'] = model.predict(test[X_cols])\n",
    "test.head()"
   ]
  },
  {
   "cell_type": "code",
   "execution_count": 131,
   "metadata": {},
   "outputs": [
    {
     "data": {
      "text/html": [
       "<div>\n",
       "<style scoped>\n",
       "    .dataframe tbody tr th:only-of-type {\n",
       "        vertical-align: middle;\n",
       "    }\n",
       "\n",
       "    .dataframe tbody tr th {\n",
       "        vertical-align: top;\n",
       "    }\n",
       "\n",
       "    .dataframe thead th {\n",
       "        text-align: right;\n",
       "    }\n",
       "</style>\n",
       "<table border=\"1\" class=\"dataframe\">\n",
       "  <thead>\n",
       "    <tr style=\"text-align: right;\">\n",
       "      <th></th>\n",
       "      <th>ward</th>\n",
       "      <th>total_households</th>\n",
       "      <th>total_individuals</th>\n",
       "      <th>dw_00</th>\n",
       "      <th>dw_01</th>\n",
       "      <th>dw_02</th>\n",
       "      <th>dw_03</th>\n",
       "      <th>dw_04</th>\n",
       "      <th>dw_05</th>\n",
       "      <th>dw_06</th>\n",
       "      <th>...</th>\n",
       "      <th>pw_02</th>\n",
       "      <th>pw_03</th>\n",
       "      <th>pw_04</th>\n",
       "      <th>pw_05</th>\n",
       "      <th>pw_06</th>\n",
       "      <th>pw_08</th>\n",
       "      <th>lat</th>\n",
       "      <th>lon</th>\n",
       "      <th>NL</th>\n",
       "      <th>target</th>\n",
       "    </tr>\n",
       "  </thead>\n",
       "  <tbody>\n",
       "    <tr>\n",
       "      <th>0</th>\n",
       "      <td>21001001: Ward 1</td>\n",
       "      <td>2504.95194</td>\n",
       "      <td>8745.15151</td>\n",
       "      <td>0.947257</td>\n",
       "      <td>0.000873</td>\n",
       "      <td>0.002021</td>\n",
       "      <td>0.000000</td>\n",
       "      <td>0.000000</td>\n",
       "      <td>0.030116</td>\n",
       "      <td>0.000452</td>\n",
       "      <td>...</td>\n",
       "      <td>0.012457</td>\n",
       "      <td>0.001757</td>\n",
       "      <td>0.000000</td>\n",
       "      <td>0.0</td>\n",
       "      <td>0.006649</td>\n",
       "      <td>0.0</td>\n",
       "      <td>-32.637758</td>\n",
       "      <td>23.848688</td>\n",
       "      <td>0.000000</td>\n",
       "      <td>20.546466</td>\n",
       "    </tr>\n",
       "    <tr>\n",
       "      <th>1</th>\n",
       "      <td>21001002: Ward 2</td>\n",
       "      <td>2080.27718</td>\n",
       "      <td>7258.11764</td>\n",
       "      <td>0.844993</td>\n",
       "      <td>0.000481</td>\n",
       "      <td>0.043629</td>\n",
       "      <td>0.004714</td>\n",
       "      <td>0.012323</td>\n",
       "      <td>0.012300</td>\n",
       "      <td>0.022132</td>\n",
       "      <td>...</td>\n",
       "      <td>0.009606</td>\n",
       "      <td>0.000691</td>\n",
       "      <td>0.000000</td>\n",
       "      <td>0.0</td>\n",
       "      <td>0.002916</td>\n",
       "      <td>0.0</td>\n",
       "      <td>-31.990536</td>\n",
       "      <td>24.555818</td>\n",
       "      <td>0.000000</td>\n",
       "      <td>12.968441</td>\n",
       "    </tr>\n",
       "    <tr>\n",
       "      <th>2</th>\n",
       "      <td>21001003: Ward 3</td>\n",
       "      <td>1106.62639</td>\n",
       "      <td>5919.13170</td>\n",
       "      <td>0.651380</td>\n",
       "      <td>0.007937</td>\n",
       "      <td>0.007113</td>\n",
       "      <td>0.000000</td>\n",
       "      <td>0.001977</td>\n",
       "      <td>0.259711</td>\n",
       "      <td>0.006505</td>\n",
       "      <td>...</td>\n",
       "      <td>0.001996</td>\n",
       "      <td>0.002253</td>\n",
       "      <td>0.000000</td>\n",
       "      <td>0.0</td>\n",
       "      <td>0.000000</td>\n",
       "      <td>0.0</td>\n",
       "      <td>-32.283595</td>\n",
       "      <td>24.563940</td>\n",
       "      <td>8.269556</td>\n",
       "      <td>22.146106</td>\n",
       "    </tr>\n",
       "    <tr>\n",
       "      <th>3</th>\n",
       "      <td>21001004: Ward 4</td>\n",
       "      <td>2175.56096</td>\n",
       "      <td>10280.57452</td>\n",
       "      <td>0.410837</td>\n",
       "      <td>0.002468</td>\n",
       "      <td>0.011511</td>\n",
       "      <td>0.000485</td>\n",
       "      <td>0.000000</td>\n",
       "      <td>0.449604</td>\n",
       "      <td>0.009256</td>\n",
       "      <td>...</td>\n",
       "      <td>0.002060</td>\n",
       "      <td>0.000000</td>\n",
       "      <td>0.000661</td>\n",
       "      <td>0.0</td>\n",
       "      <td>0.001379</td>\n",
       "      <td>0.0</td>\n",
       "      <td>-32.261612</td>\n",
       "      <td>24.542202</td>\n",
       "      <td>8.626625</td>\n",
       "      <td>18.026114</td>\n",
       "    </tr>\n",
       "    <tr>\n",
       "      <th>4</th>\n",
       "      <td>21001005: Ward 5</td>\n",
       "      <td>1270.83883</td>\n",
       "      <td>6018.34202</td>\n",
       "      <td>0.942851</td>\n",
       "      <td>0.002638</td>\n",
       "      <td>0.000821</td>\n",
       "      <td>0.000000</td>\n",
       "      <td>0.000891</td>\n",
       "      <td>0.000787</td>\n",
       "      <td>0.000830</td>\n",
       "      <td>...</td>\n",
       "      <td>0.000787</td>\n",
       "      <td>0.000000</td>\n",
       "      <td>0.000000</td>\n",
       "      <td>0.0</td>\n",
       "      <td>0.001660</td>\n",
       "      <td>0.0</td>\n",
       "      <td>-32.251571</td>\n",
       "      <td>24.558537</td>\n",
       "      <td>8.601754</td>\n",
       "      <td>22.192310</td>\n",
       "    </tr>\n",
       "  </tbody>\n",
       "</table>\n",
       "<p>5 rows × 58 columns</p>\n",
       "</div>"
      ],
      "text/plain": [
       "               ward  total_households  total_individuals     dw_00     dw_01  \\\n",
       "0  21001001: Ward 1        2504.95194         8745.15151  0.947257  0.000873   \n",
       "1  21001002: Ward 2        2080.27718         7258.11764  0.844993  0.000481   \n",
       "2  21001003: Ward 3        1106.62639         5919.13170  0.651380  0.007937   \n",
       "3  21001004: Ward 4        2175.56096        10280.57452  0.410837  0.002468   \n",
       "4  21001005: Ward 5        1270.83883         6018.34202  0.942851  0.002638   \n",
       "\n",
       "      dw_02     dw_03     dw_04     dw_05     dw_06  ...     pw_02     pw_03  \\\n",
       "0  0.002021  0.000000  0.000000  0.030116  0.000452  ...  0.012457  0.001757   \n",
       "1  0.043629  0.004714  0.012323  0.012300  0.022132  ...  0.009606  0.000691   \n",
       "2  0.007113  0.000000  0.001977  0.259711  0.006505  ...  0.001996  0.002253   \n",
       "3  0.011511  0.000485  0.000000  0.449604  0.009256  ...  0.002060  0.000000   \n",
       "4  0.000821  0.000000  0.000891  0.000787  0.000830  ...  0.000787  0.000000   \n",
       "\n",
       "      pw_04  pw_05     pw_06  pw_08        lat        lon        NL     target  \n",
       "0  0.000000    0.0  0.006649    0.0 -32.637758  23.848688  0.000000  20.546466  \n",
       "1  0.000000    0.0  0.002916    0.0 -31.990536  24.555818  0.000000  12.968441  \n",
       "2  0.000000    0.0  0.000000    0.0 -32.283595  24.563940  8.269556  22.146106  \n",
       "3  0.000661    0.0  0.001379    0.0 -32.261612  24.542202  8.626625  18.026114  \n",
       "4  0.000000    0.0  0.001660    0.0 -32.251571  24.558537  8.601754  22.192310  \n",
       "\n",
       "[5 rows x 58 columns]"
      ]
     },
     "execution_count": 131,
     "metadata": {},
     "output_type": "execute_result"
    }
   ],
   "source": [
    "test.head() "
   ]
  },
  {
   "cell_type": "code",
   "execution_count": 132,
   "metadata": {
    "colab": {},
    "colab_type": "code",
    "id": "NZoN6skrB9ru"
   },
   "outputs": [],
   "source": [
    "test[['ward','target']].to_csv('newww_submission.csv', index=False)"
   ]
  }
 ],
 "metadata": {
  "colab": {
   "collapsed_sections": [],
   "name": "NewKrustyKrab.ipynb",
   "provenance": []
  },
  "kernelspec": {
   "display_name": "Python 3",
   "language": "python",
   "name": "python3"
  },
  "language_info": {
   "codemirror_mode": {
    "name": "ipython",
    "version": 3
   },
   "file_extension": ".py",
   "mimetype": "text/x-python",
   "name": "python",
   "nbconvert_exporter": "python",
   "pygments_lexer": "ipython3",
   "version": "3.7.6"
  }
 },
 "nbformat": 4,
 "nbformat_minor": 1
}
